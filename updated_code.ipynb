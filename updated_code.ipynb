{
  "cells": [
    {
      "cell_type": "code",
      "execution_count": null,
      "metadata": {
        "id": "sQncuzd-OeWo"
      },
      "outputs": [],
      "source": []
    },
    {
      "cell_type": "code",
      "execution_count": null,
      "metadata": {
        "id": "VJWu7Q5POff1"
      },
      "outputs": [],
      "source": []
    },
    {
      "cell_type": "code",
      "execution_count": null,
      "metadata": {
        "colab": {
          "base_uri": "https://localhost:8080/"
        },
        "id": "V-TiVaMeOf9B",
        "outputId": "93cb78b5-6316-47a3-a85a-43eeecab2e9d"
      },
      "outputs": [
        {
          "output_type": "stream",
          "name": "stdout",
          "text": [
            "cp: cannot stat 'kaggle.json': No such file or directory\n",
            "chmod: cannot access '/root/.kaggle/kaggle.json': No such file or directory\n",
            "Dataset URL: https://www.kaggle.com/datasets/subirbiswas19/skin-disease-dataset\n",
            "License(s): CC0-1.0\n",
            "Downloading skin-disease-dataset.zip to /content\n",
            " 40% 7.00M/17.3M [00:00<00:00, 33.0MB/s]\n",
            "100% 17.3M/17.3M [00:00<00:00, 66.4MB/s]\n"
          ]
        }
      ],
      "source": [
        "!mkdir -p ~/.kaggle\n",
        "!cp kaggle.json ~/.kaggle/\n",
        "!chmod 600 ~/.kaggle/kaggle.json\n",
        "\n",
        "!kaggle datasets download -d subirbiswas19/skin-disease-dataset\n",
        "\n",
        "import zipfile\n",
        "zip_ref = zipfile.ZipFile('/content/skin-disease-dataset.zip', 'r')\n",
        "zip_ref.extractall('/content')\n",
        "zip_ref.close()"
      ]
    },
    {
      "cell_type": "code",
      "execution_count": null,
      "metadata": {
        "id": "SKYj8UfHOgYK"
      },
      "outputs": [],
      "source": []
    },
    {
      "cell_type": "code",
      "execution_count": null,
      "metadata": {
        "id": "p7P-KGqGL3Wn"
      },
      "outputs": [],
      "source": [
        "import tensorflow as tf\n",
        "from tensorflow.keras.models import Sequential\n",
        "from tensorflow.keras.layers import Conv2D, MaxPooling2D, Flatten, Dense, Dropout, BatchNormalization, Input\n",
        "from tensorflow.keras.optimizers import Adam\n",
        "from tensorflow.keras.callbacks import EarlyStopping, LearningRateScheduler\n",
        "import matplotlib.pyplot as plt\n",
        "import cv2\n",
        "import os"
      ]
    },
    {
      "cell_type": "code",
      "execution_count": null,
      "metadata": {
        "colab": {
          "base_uri": "https://localhost:8080/"
        },
        "id": "sVB4Xeg9MA-1",
        "outputId": "e35236d2-ccf8-4cc6-a2dc-f30d84252556"
      },
      "outputs": [
        {
          "output_type": "stream",
          "name": "stdout",
          "text": [
            "Found 924 files belonging to 8 classes.\n",
            "Found 233 files belonging to 8 classes.\n"
          ]
        }
      ],
      "source": [
        "\n",
        "# Load dataset for multi-class classification\n",
        "train_ds = tf.keras.utils.image_dataset_from_directory(\n",
        "    directory=r'/content/skin-disease-datasaet/train_set',\n",
        "    labels='inferred',\n",
        "    label_mode='int',  # For multi-class, use integer labels\n",
        "    batch_size=32,\n",
        "    image_size=(256, 256)\n",
        ")\n",
        "\n",
        "validation_ds = tf.keras.utils.image_dataset_from_directory(\n",
        "    directory=r'/content/skin-disease-datasaet/test_set',\n",
        "    labels='inferred',\n",
        "    label_mode='int',\n",
        "    batch_size=32,\n",
        "    image_size=(256, 256)\n",
        ")"
      ]
    },
    {
      "cell_type": "code",
      "execution_count": null,
      "metadata": {
        "id": "IJcq1nxxZXYs"
      },
      "outputs": [],
      "source": [
        "# Define an enhanced CNN model for multi-class classification\n",
        "num_classes = 8  # Change this number based on the number of diseases to classify\n",
        "\n",
        "model = Sequential()"
      ]
    },
    {
      "cell_type": "code",
      "execution_count": null,
      "metadata": {
        "id": "Skqyoc7PZXtg"
      },
      "outputs": [],
      "source": [
        "\n",
        "# Input layer\n",
        "model.add(Input(shape=(256, 256, 3)))  # Input shape for images\n",
        "\n",
        "# Convolutional layers with BatchNormalization, Dropout, and LeakyReLU for better performance\n",
        "model.add(Conv2D(32, kernel_size=(3, 3), padding='same'))\n",
        "model.add(BatchNormalization())\n",
        "model.add(tf.keras.layers.LeakyReLU())\n",
        "model.add(MaxPooling2D(pool_size=(2, 2)))\n",
        "\n",
        "model.add(Conv2D(64, kernel_size=(3, 3), padding='same'))\n",
        "model.add(BatchNormalization())\n",
        "model.add(tf.keras.layers.LeakyReLU())\n",
        "model.add(MaxPooling2D(pool_size=(2, 2)))\n",
        "\n",
        "model.add(Conv2D(128, kernel_size=(3, 3), padding='same'))\n",
        "model.add(BatchNormalization())\n",
        "model.add(tf.keras.layers.LeakyReLU())\n",
        "model.add(MaxPooling2D(pool_size=(2, 2)))\n",
        "\n",
        "model.add(Conv2D(256, kernel_size=(3, 3), padding='same'))\n",
        "model.add(BatchNormalization())\n",
        "model.add(tf.keras.layers.LeakyReLU())\n",
        "model.add(MaxPooling2D(pool_size=(2, 2)))\n",
        "\n",
        "# Flatten and Dense layers with Dropout for regularization\n",
        "model.add(Flatten())\n",
        "model.add(Dense(512))\n",
        "model.add(BatchNormalization())\n",
        "model.add(tf.keras.layers.LeakyReLU())\n",
        "model.add(Dropout(0.5))\n",
        "\n",
        "model.add(Dense(256))\n",
        "model.add(BatchNormalization())\n",
        "model.add(tf.keras.layers.LeakyReLU())\n",
        "model.add(Dropout(0.5))"
      ]
    },
    {
      "cell_type": "code",
      "execution_count": null,
      "metadata": {
        "id": "pIuIug8EZX5-"
      },
      "outputs": [],
      "source": [
        "# Output layer for multi-class classification with 'softmax'\n",
        "model.add(Dense(num_classes, activation='softmax'))  # num_classes represents the number of diseases\n",
        "\n",
        "# Compile the model with sparse categorical cross-entropy for multi-class classification\n",
        "model.compile(optimizer=Adam(learning_rate=0.001), loss='sparse_categorical_crossentropy', metrics=['accuracy'])\n",
        "\n",
        "# Early stopping to avoid overfitting\n",
        "early_stopping = EarlyStopping(monitor='val_loss', patience=5, restore_best_weights=True)"
      ]
    },
    {
      "cell_type": "code",
      "execution_count": null,
      "metadata": {
        "id": "L8l7v_BdMDuh"
      },
      "outputs": [],
      "source": [
        "# Learning rate scheduler to gradually decrease the learning rate\n",
        "def scheduler(epoch, lr):\n",
        "    if epoch < 10:\n",
        "        return lr\n",
        "    else:\n",
        "         return float(lr * tf.math.exp(-0.1).numpy())\n",
        "\n",
        "lr_scheduler = LearningRateScheduler(scheduler)"
      ]
    },
    {
      "cell_type": "code",
      "execution_count": null,
      "metadata": {
        "colab": {
          "base_uri": "https://localhost:8080/"
        },
        "id": "Zaum8p9FTQrt",
        "outputId": "caf931d5-4063-4090-aa72-aa7a531d2f34"
      },
      "outputs": [
        {
          "output_type": "stream",
          "name": "stdout",
          "text": [
            "Epoch 1/5\n",
            "\u001b[1m29/29\u001b[0m \u001b[32m━━━━━━━━━━━━━━━━━━━━\u001b[0m\u001b[37m\u001b[0m \u001b[1m43s\u001b[0m 706ms/step - accuracy: 0.2964 - loss: 2.3112 - val_accuracy: 0.2575 - val_loss: 13.9141 - learning_rate: 0.0010\n",
            "Epoch 2/5\n",
            "\u001b[1m29/29\u001b[0m \u001b[32m━━━━━━━━━━━━━━━━━━━━\u001b[0m\u001b[37m\u001b[0m \u001b[1m3s\u001b[0m 100ms/step - accuracy: 0.5123 - loss: 1.3249 - val_accuracy: 0.2790 - val_loss: 7.1599 - learning_rate: 0.0010\n",
            "Epoch 3/5\n",
            "\u001b[1m29/29\u001b[0m \u001b[32m━━━━━━━━━━━━━━━━━━━━\u001b[0m\u001b[37m\u001b[0m \u001b[1m3s\u001b[0m 96ms/step - accuracy: 0.6574 - loss: 0.9938 - val_accuracy: 0.3863 - val_loss: 3.0202 - learning_rate: 0.0010\n",
            "Epoch 4/5\n",
            "\u001b[1m29/29\u001b[0m \u001b[32m━━━━━━━━━━━━━━━━━━━━\u001b[0m\u001b[37m\u001b[0m \u001b[1m3s\u001b[0m 91ms/step - accuracy: 0.7434 - loss: 0.7528 - val_accuracy: 0.3906 - val_loss: 3.7316 - learning_rate: 0.0010\n",
            "Epoch 5/5\n",
            "\u001b[1m29/29\u001b[0m \u001b[32m━━━━━━━━━━━━━━━━━━━━\u001b[0m\u001b[37m\u001b[0m \u001b[1m3s\u001b[0m 98ms/step - accuracy: 0.8113 - loss: 0.5334 - val_accuracy: 0.5536 - val_loss: 1.6751 - learning_rate: 0.0010\n"
          ]
        }
      ],
      "source": [
        "\n",
        "# Train the model\n",
        "history = model.fit(train_ds, epochs=5, validation_data=validation_ds, callbacks=[early_stopping, lr_scheduler])"
      ]
    },
    {
      "cell_type": "code",
      "execution_count": null,
      "metadata": {
        "colab": {
          "base_uri": "https://localhost:8080/",
          "height": 927
        },
        "id": "T4QDTaOYXCAy",
        "outputId": "cc4ea369-5398-4d78-9c18-96bd5b00026c"
      },
      "outputs": [
        {
          "output_type": "display_data",
          "data": {
            "text/plain": [
              "<Figure size 640x480 with 1 Axes>"
            ],
            "image/png": "[encoded data removed]"
          },
          "metadata": {}
        },
        {
          "output_type": "display_data",
          "data": {
            "text/plain": [
              "<Figure size 640x480 with 1 Axes>"
            ],
            "image/png": "[encoded data removed]"
          },
          "metadata": {}
        }
      ],
      "source": [
        "# Plot training and validation accuracy\n",
        "plt.plot(history.history['accuracy'])\n",
        "plt.plot(history.history['val_accuracy'])\n",
        "plt.title('Model Accuracy')\n",
        "plt.xlabel('Epoch')\n",
        "plt.ylabel('Accuracy')\n",
        "plt.legend(['Train', 'Validation'], loc='upper left')  # 'Validation' should be a string\n",
        "plt.show()\n",
        "\n",
        "# Plot training and validation loss\n",
        "plt.plot(history.history['loss'])\n",
        "plt.plot(history.history['val_loss'])\n",
        "plt.title('Model Loss')\n",
        "plt.xlabel('Epoch')\n",
        "plt.ylabel('Loss')\n",
        "plt.legend(['Train', 'Validation'], loc='upper left')  # 'Validation' should be a string\n",
        "plt.show()\n"
      ]
    },
    {
      "cell_type": "code",
      "execution_count": null,
      "metadata": {
        "id": "2RkTqehGXG13"
      },
      "outputs": [],
      "source": [
        "# Multi-Class Prediction on a New Image\n",
        "def predict_image(image_path):\n",
        "    # Load and preprocess the image\n",
        "    test_image = cv2.imread(image_path)\n",
        "\n",
        "    if test_image is None:\n",
        "        print(\"Error: Image not loaded, check if the file path is correct.\")\n",
        "        return\n",
        "\n",
        "    # Resize the image to match the input size of the model\n",
        "    test_image = cv2.resize(test_image, (256, 256))\n",
        "    test_image = test_image / 255.0  # Normalize image\n",
        "    test_image = tf.expand_dims(test_image, axis=0)  # Add batch dimension\n",
        "\n",
        "    # Make prediction\n",
        "    prediction = model.predict(test_image)\n",
        "\n",
        "    # Convert prediction to the most likely class\n",
        "    predicted_class = tf.argmax(prediction[0])\n",
        "\n",
        "    # Assuming there are 5 diseases (replace with actual disease names)\n",
        "    disease_names = ['Chickenpox', 'Eczema', 'Ringworm', 'Disease4', 'Disease5','Chickenpox', 'Eczema', 'Ringworm']\n",
        "\n",
        "    print(\"Predicted Disease:\", disease_names[predicted_class])\n",
        "\n",
        "    # Display the image with predicted label\n",
        "    plt.imshow(cv2.cvtColor(test_image[0], cv2.COLOR_BGR2RGB))\n",
        "    plt.title(f'Prediction: {disease_names[predicted_class]}')\n",
        "    plt.show()"
      ]
    },
    {
      "cell_type": "code",
      "execution_count": null,
      "metadata": {
        "colab": {
          "base_uri": "https://localhost:8080/"
        },
        "id": "IkOezL4YZ06N",
        "outputId": "58b02558-735c-44a1-d1e0-585aa8843aab"
      },
      "outputs": [
        {
          "output_type": "stream",
          "name": "stdout",
          "text": [
            "Error: Image not loaded, check if the file path is correct.\n"
          ]
        }
      ],
      "source": [
        "import cv2\n",
        "import numpy as np\n",
        "import matplotlib.pyplot as plt\n",
        "import tensorflow as tf\n",
        "\n",
        "def predict_image(image_path):\n",
        "    # Load and preprocess the image\n",
        "    test_image = cv2.imread(image_path)\n",
        "\n",
        "    if test_image is None:\n",
        "        print(\"Error: Image not loaded, check if the file path is correct.\")\n",
        "        return\n",
        "\n",
        "    # Resize the image to match the input size of the model\n",
        "    test_image = cv2.resize(test_image, (256, 256))\n",
        "    test_image_normalized = test_image / 255.0  # Normalize image\n",
        "    test_image_normalized = tf.expand_dims(test_image_normalized, axis=0)  # Add batch dimension\n",
        "\n",
        "    # Make prediction\n",
        "    prediction = model.predict(test_image_normalized)\n",
        "\n",
        "    # Convert prediction to the most likely class\n",
        "    predicted_class = tf.argmax(prediction[0])\n",
        "\n",
        "    # Assuming there are 5 diseases (replace with actual disease names)\n",
        "    disease_names = ['Chickenpox', 'Eczema', 'Ringworm', 'Disease4', 'Disease5','Disease6', 'Disease7', 'Chickenpox', 'Disease9']\n",
        "\n",
        "    print(\"Predicted Disease:\", disease_names[predicted_class])\n",
        "\n",
        "    # Display the original image with the predicted label\n",
        "    plt.imshow(cv2.cvtColor(test_image, cv2.COLOR_BGR2RGB))  # Using original test_image\n",
        "    plt.title(f'Prediction: {disease_names[predicted_class]}')\n",
        "    plt.show()\n",
        "\n",
        "# Example usage of the prediction function\n",
        "test_image_path = '/content/varicdc015.jpg'  # Provide the correct image path\n",
        "predict_image(test_image_path)\n"
      ]
    },
    {
      "cell_type": "code",
      "execution_count": null,
      "metadata": {
        "id": "8ZE1KPHqfaFE"
      },
      "outputs": [],
      "source": [
        "# model.save('/content/model_savv.keras')\n"
      ]
    },
    {
      "cell_type": "code",
      "execution_count": null,
      "metadata": {
        "id": "_mnjoRyv26M7"
      },
      "outputs": [],
      "source": [
        "\n",
        "# from google.colab import files\n",
        "\n",
        "# !zip -r model_savv.zip model_savv.keras\n",
        "# files.download('model_savv.zip')\n",
        "\n",
        "\n"
      ]
    },
    {
      "cell_type": "code",
      "execution_count": null,
      "metadata": {
        "colab": {
          "base_uri": "https://localhost:8080/"
        },
        "id": "Q5mBffec4va9",
        "outputId": "edd41a6f-1e27-4d33-aeb1-4136ad626af6"
      },
      "outputs": [
        {
          "output_type": "stream",
          "name": "stdout",
          "text": [
            "Mounted at /content/drive\n",
            "cp: cannot stat 'model_savv.zip': No such file or directory\n"
          ]
        }
      ],
      "source": [
        "\n",
        "from google.colab import drive\n",
        "drive.mount('/content/drive')\n",
        "\n",
        "# Save the zip file to Google Drive\n",
        "!cp model_savv.zip /content/drive/MyDrive/\n"
      ]
    }
  ],
  "metadata": {
    "accelerator": "GPU",
    "colab": {
      "gpuType": "T4",
      "provenance": []
    },
    "kernelspec": {
      "display_name": "Python 3",
      "name": "python3"
    },
    "language_info": {
      "name": "python"
    }
  },
  "nbformat": 4,
  "nbformat_minor": 0
}